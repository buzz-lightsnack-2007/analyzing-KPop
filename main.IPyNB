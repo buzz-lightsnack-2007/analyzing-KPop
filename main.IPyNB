{
 "cells": [
  {
   "attachments": {},
   "cell_type": "markdown",
   "metadata": {},
   "source": [
    "# `analyzing-KPop`\n",
    "K-pop is growing popularity, and there's no sign of stopping. With this, let's find out its various trends! Simply put, this program analyzes trends within **K-Pop idols, groups, and music videos from 1992 to 2020.** For more information, kindly read the [informational document](https://github.com/buzz-lightsnack-2007/analyzing-KPop/blob/main/ReadMe.md). "
   ]
  },
  {
   "attachments": {},
   "cell_type": "markdown",
   "metadata": {},
   "source": [
    "## Load It Up!"
   ]
  },
  {
   "attachments": {},
   "cell_type": "markdown",
   "metadata": {},
   "source": [
    "### Loading Functions\n",
    "Let's load the necessary modules and functions. "
   ]
  },
  {
   "cell_type": "code",
   "execution_count": 3,
   "metadata": {},
   "outputs": [
    {
     "name": "stdout",
     "output_type": "stream",
     "text": [
      "\u001b[1m\u001b[92m✓ Success: \t\u001b[0m\u001b[0mThe necessary modules have been loaded properly. \n"
     ]
    }
   ],
   "source": [
    "# Loading Functions\n",
    "# Formatting\n",
    "formatting = {\n",
    "\t'clear': '\\033[0m',\n",
    "\t'color': {\n",
    "\t\t'purple': '\\033[95m',\n",
    "\t\t'cyan': '\\033[96m',\n",
    "\t\t'cyan_dark': '\\033[36m',\n",
    "\t\t'blue': '\\033[94m',\n",
    "\t\t'green': '\\033[92m',\n",
    "\t\t'yellow': '\\033[93m',\n",
    "\t\t'red': '\\033[91m'\n",
    "\t},\n",
    "\t'font': {\n",
    "\t\t'bold': '\\033[1m',\n",
    "\t\t'underline': '\\033[4m'\n",
    "\t}\n",
    "}\n",
    "\n",
    "# Screen messages\n",
    "def info_status(message):\n",
    "\tprint(formatting['font']['bold'] + 'Status: \\t' + formatting['clear'] + message)\n",
    "def info_err(message):\n",
    "\tprint(formatting['font']['bold'] + formatting['color']['red'] + '🗙 Error: \\t' + formatting['clear'] + formatting['clear'] + message)\n",
    "def info_warning(message):\n",
    "\tprint(formatting['font']['bold'] + formatting['color']['yellow'] + '⚠ Warning: \\t' + formatting['clear'] + formatting['clear'] + message)\n",
    "def info_success(message):\n",
    "\tprint(formatting['font']['bold'] + formatting['color']['green'] + '✓ Success: \\t' + formatting['clear'] + formatting['clear'] + message)\n",
    "\n",
    "try: \n",
    "\t# Import modules. \n",
    "\timport os\n",
    "\timport pandas\n",
    "\timport matplotlib\n",
    "\t\n",
    "except: \n",
    "\tinfo_err(\"Your runtime is missing either pandas or MatPlotLib.\")\n",
    "\texit()\n",
    "else: \n",
    "\tinfo_success(\"The necessary modules have been loaded properly. \")"
   ]
  },
  {
   "attachments": {},
   "cell_type": "markdown",
   "metadata": {},
   "source": [
    "### Loading Files\n",
    "Let's check if the files are there!"
   ]
  },
  {
   "cell_type": "code",
   "execution_count": 4,
   "metadata": {},
   "outputs": [
    {
     "name": "stdout",
     "output_type": "stream",
     "text": [
      "\u001b[1m\u001b[91m🗙 Error: \t\u001b[0m\u001b[0mFolder not found! You might have probably selected the wrong directory; in this case, you may edit the directory_list_names_expected variable. If not, there is a possibility that you might have been using it remotely. Remote runtimes aren't the best.\n"
     ]
    },
    {
     "ename": "",
     "evalue": "",
     "output_type": "error",
     "traceback": [
      "\u001b[1;31mThe Kernel crashed while executing code in the the current cell or a previous cell. Please review the code in the cell(s) to identify a possible cause of the failure. Click <a href='https://aka.ms/vscodeJupyterKernelCrash'>here</a> for more info. View Jupyter <a href='command:jupyter.viewOutput'>log</a> for further details."
     ]
    }
   ],
   "source": [
    "# Loading Files\n",
    "def load_check_files(): \n",
    "\t\"\"\"\n",
    "\t\tThis function checks if there are any files inside the data folder and, optionally, the kpop_idols folder inside it. It is expected that the CSVs are inside the kpop_idols folder, although the main data folder can be accepted. \n",
    "\n",
    "\t\tParameters: none\n",
    "\t\tReturns: dictionary containing the major data folder directory and the list of CSV files\n",
    "\t\"\"\"\n",
    "\n",
    "\t# Create the dictionary to return the final files, if they are found. \n",
    "\tdirectory_suggested = {}\n",
    "\n",
    "\t# Change the first list below if you've placed it elsewhere.\n",
    "\tdirectory_list_names_expected = ['data', 'data/kpop_idols']\n",
    "\n",
    "\t# list of contents \n",
    "\tdirectory_list_contents = {}\n",
    "\tdirectory_list_contents_CSV = {}\n",
    "\n",
    "\t# list of number of files\n",
    "\tdirectory_list_contents_count = {}\n",
    "\tdirectory_list_contents_count_CSV = {}\n",
    "\n",
    "\ttry: \n",
    "\t\t# check contents\n",
    "\t\tfor directory_name in directory_list_names_expected: \n",
    "\t\t\t# Copy to the main file contents directory. \n",
    "\t\t\tdirectory_list_contents[directory_name] = os.listdir(directory_name)\n",
    "\t\t\tdirectory_list_contents_count[directory_name] = len(directory_list_contents_count[directory_name])\n",
    "\n",
    "\t\t\t# Create variable to check the CSV files. \n",
    "\t\t\tdirectory_list_contents_CSV[directory_name] = []\n",
    "\t\t\tdirectory_list_contents_count_CSV[directory_name] = 0\n",
    "\n",
    "\t\t\t# Check and count the CSV files. \n",
    "\t\t\tfor directory_content in directory_list_contents[directory_name]: \n",
    "\t\t\t\tif '.csv' in directory_content: \n",
    "\t\t\t\t\tdirectory_list_contents_CSV[directory_name].append(directory_content)\n",
    "\t\t\t\t\tdirectory_list_contents_count_CSV[directory_name] = directory_list_contents_count_CSV[directory_name] + 1\n",
    "\t\t\t\n",
    "\t\t\t# If they add up to four, that's most probably it. \n",
    "\t\t\tif (directory_list_contents_count_CSV[directory_name] == 4): \n",
    "\t\t\t\t\n",
    "\t\t\t\t# Check that the contents are correct. \n",
    "\t\t\t\tdirectory_expected_contents = ['kpop_idols_boy_groups.csv', 'kpop_idols_girl_groups.csv', 'kpop_idols.csv', 'kpop_music_videos.csv']\n",
    "\n",
    "\t\t\t\tif directory_expected_contents.sort() == directory_list_contents_CSV[directory_name].sort(): \n",
    "\t\t\t\t\t# Fill up the information that we're interested looking at. \n",
    "\t\t\t\t\tdirectory_suggested['name'] = directory_name\n",
    "\t\t\t\t\t\n",
    "\t\t\t\t\t# Let the user know that it is working. \n",
    "\t\t\t\t\tinfo_success((\"Files found at \" + directory_name + \" relative to this file.\"))\n",
    "\n",
    "\t\t\t\t\t# Return the data. \n",
    "\t\t\t\t\treturn(directory_suggested)\n",
    "\t\t\t\t\n",
    "\texcept: \n",
    "\t\tinfo_err(\"Folder not found! You might have probably selected the wrong directory; in this case, you may edit the directory_list_names_expected variable. If not, there is a possibility that you might have been using it remotely. Remote runtimes aren't the best.\")\n",
    "\t\texit()\n",
    "\telse: \n",
    "\t\tinfo_err(\"The expected folder was found, but not the contents. If you believe that you have placed the files, you may edit the entries in the directory_list_names_expected variable.\")\n",
    "\t\texit()\n",
    "\n",
    "load_check_files()"
   ]
  },
  {
   "cell_type": "code",
   "execution_count": null,
   "metadata": {},
   "outputs": [],
   "source": []
  }
 ],
 "metadata": {
  "kernelspec": {
   "display_name": "Python 3",
   "language": "python",
   "name": "python3"
  },
  "language_info": {
   "codemirror_mode": {
    "name": "ipython",
    "version": 3
   },
   "file_extension": ".py",
   "mimetype": "text/x-python",
   "name": "python",
   "nbconvert_exporter": "python",
   "pygments_lexer": "ipython3",
   "version": "3.10.9"
  },
  "orig_nbformat": 4,
  "vscode": {
   "interpreter": {
    "hash": "52e4239eece83265997d6e93852dc693e0ca90d986c4fa55a85eb59c63d35e0a"
   }
  }
 },
 "nbformat": 4,
 "nbformat_minor": 2
}
